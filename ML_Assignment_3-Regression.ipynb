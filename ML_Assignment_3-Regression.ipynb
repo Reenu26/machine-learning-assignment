{
 "cells": [
  {
   "cell_type": "code",
   "execution_count": 3,
   "id": "3235172c-0a34-47a5-8232-84cb3311f2c1",
   "metadata": {},
   "outputs": [],
   "source": [
    "\n",
    "from sklearn.datasets import fetch_california_housing\n"
   ]
  },
  {
   "cell_type": "code",
   "execution_count": 11,
   "id": "1b061685-e40e-4ef7-825d-4c7577a386c5",
   "metadata": {},
   "outputs": [
    {
     "data": {
      "text/plain": [
       "(   MedInc  HouseAge  AveRooms  AveBedrms  Population  AveOccup  Latitude  \\\n",
       " 0  8.3252      41.0  6.984127   1.023810       322.0  2.555556     37.88   \n",
       " 1  8.3014      21.0  6.238137   0.971880      2401.0  2.109842     37.86   \n",
       " 2  7.2574      52.0  8.288136   1.073446       496.0  2.802260     37.85   \n",
       " 3  5.6431      52.0  5.817352   1.073059       558.0  2.547945     37.85   \n",
       " 4  3.8462      52.0  6.281853   1.081081       565.0  2.181467     37.85   \n",
       " \n",
       "    Longitude  \n",
       " 0    -122.23  \n",
       " 1    -122.22  \n",
       " 2    -122.24  \n",
       " 3    -122.25  \n",
       " 4    -122.25  ,\n",
       " 0    4.526\n",
       " 1    3.585\n",
       " 2    3.521\n",
       " 3    3.413\n",
       " 4    3.422\n",
       " Name: MedHouseVal, dtype: float64)"
      ]
     },
     "execution_count": 11,
     "metadata": {},
     "output_type": "execute_result"
    }
   ],
   "source": [
    "\n",
    "california_housing = fetch_california_housing(as_frame=True)\n",
    "data = california_housing.data\n",
    "target = california_housing.target\n",
    "\n",
    "data.head(), target.head()\n",
    "\n",
    "\n"
   ]
  },
  {
   "cell_type": "code",
   "execution_count": 15,
   "id": "e1e6bb82-36ee-4d42-b976-0faa6d1214c2",
   "metadata": {},
   "outputs": [],
   "source": [
    "\n",
    "import pandas as pd\n",
    "from sklearn.preprocessing import StandardScaler\n",
    "from sklearn.impute import SimpleImputer\n",
    "\n",
    "\n"
   ]
  },
  {
   "cell_type": "code",
   "execution_count": 17,
   "id": "fb192160-6277-46c1-83c2-34656f9ebec0",
   "metadata": {},
   "outputs": [
    {
     "data": {
      "text/plain": [
       "(     MedInc  HouseAge  AveRooms  AveBedrms  Population  AveOccup  Latitude  \\\n",
       " 0 -0.320886  1.533118  1.035234   0.202727   -1.086062 -1.164789 -1.491266   \n",
       " 1  0.416124  0.666156 -1.449925   1.446933    1.169332 -0.971025 -1.072888   \n",
       " 2 -0.549554  0.011165 -0.012924  -0.827586    0.433821 -1.221534 -0.699889   \n",
       " 3 -0.055683  0.941648 -0.824315  -0.080210    0.369008 -1.541503  0.366501   \n",
       " 4 -1.327601  1.526584  1.851400   0.905643   -0.590603 -1.365356  0.625789   \n",
       " \n",
       "    Longitude  \n",
       " 0   1.223034  \n",
       " 1  -1.271519  \n",
       " 2  -0.603072  \n",
       " 3  -1.318578  \n",
       " 4  -0.333473  ,\n",
       " MedInc        0\n",
       " HouseAge      0\n",
       " AveRooms      0\n",
       " AveBedrms     0\n",
       " Population    0\n",
       " AveOccup      0\n",
       " Latitude      0\n",
       " Longitude     0\n",
       " dtype: int64)"
      ]
     },
     "execution_count": 17,
     "metadata": {},
     "output_type": "execute_result"
    }
   ],
   "source": [
    "columns = [\n",
    "    \"MedInc\", \"HouseAge\", \"AveRooms\", \"AveBedrms\",\n",
    "    \"Population\", \"AveOccup\", \"Latitude\", \"Longitude\"\n",
    "]\n",
    "import numpy as np\n",
    "\n",
    "np.random.seed(42)\n",
    "data_demo = pd.DataFrame(\n",
    "    np.random.rand(100, len(columns)) * 100,  \n",
    "    columns=columns\n",
    ")\n",
    "\n",
    "target_demo = pd.Series(np.random.rand(100) * 5, name=\"MedianHouseValue\")\n",
    "\n",
    "missing_data = data_demo.isnull().sum()\n",
    "\n",
    "imputer = SimpleImputer(strategy=\"mean\")\n",
    "data_cleaned = pd.DataFrame(imputer.fit_transform(data_demo), columns=data_demo.columns)\n",
    "\n",
    "scaler = StandardScaler()\n",
    "data_scaled = pd.DataFrame(scaler.fit_transform(data_cleaned), columns=data_cleaned.columns)\n",
    "\n",
    "data_scaled.head(), missing_data"
   ]
  },
  {
   "cell_type": "code",
   "execution_count": 19,
   "id": "5dce11b6-1fc2-4721-88d6-c5ebc01fceb0",
   "metadata": {},
   "outputs": [],
   "source": [
    "\n",
    "from sklearn.model_selection import train_test_split\n",
    "from sklearn.linear_model import LinearRegression\n",
    "from sklearn.tree import DecisionTreeRegressor\n",
    "from sklearn.ensemble import RandomForestRegressor, GradientBoostingRegressor\n",
    "from sklearn.svm import SVR\n",
    "from sklearn.metrics import mean_squared_error\n",
    "\n",
    "\n"
   ]
  },
  {
   "cell_type": "code",
   "execution_count": 21,
   "id": "d8f93484-6770-4bfd-a7aa-804e83d6805b",
   "metadata": {},
   "outputs": [
    {
     "data": {
      "text/plain": [
       "{'Linear Regression': 2.2636633900516943,\n",
       " 'Decision Tree Regressor': 3.3926284958553254,\n",
       " 'Random Forest Regressor': 2.1779378611614177,\n",
       " 'Gradient Boosting Regressor': 2.0584577622895797,\n",
       " 'Support Vector Regressor': 1.7650153658143346}"
      ]
     },
     "execution_count": 21,
     "metadata": {},
     "output_type": "execute_result"
    }
   ],
   "source": [
    "\n",
    "X_train, X_test, y_train, y_test = train_test_split(\n",
    "    data_scaled, target_demo, test_size=0.2, random_state=42\n",
    ")\n",
    "\n",
    "models = {\n",
    "    \"Linear Regression\": LinearRegression(),\n",
    "    \"Decision Tree Regressor\": DecisionTreeRegressor(random_state=42),\n",
    "    \"Random Forest Regressor\": RandomForestRegressor(random_state=42),\n",
    "    \"Gradient Boosting Regressor\": GradientBoostingRegressor(random_state=42),\n",
    "    \"Support Vector Regressor\": SVR()\n",
    "}\n",
    "results = {}\n",
    "\n",
    "for name, model in models.items():\n",
    "    model.fit(X_train, y_train)\n",
    "    y_pred = model.predict(X_test)\n",
    "    mse = mean_squared_error(y_test, y_pred)\n",
    "    results[name] = mse\n",
    "\n",
    "results"
   ]
  },
  {
   "cell_type": "code",
   "execution_count": null,
   "id": "4863d050-da0a-4784-a9a6-1ccd106432e2",
   "metadata": {},
   "outputs": [],
   "source": [
    "#this values indicates the average error of the models predictions. also it indicates that models predictions are closer to actual values\n",
    "#support vector regression has the lowest error ,that is it is the best model here.\n",
    "#decision  tree regression has the highest error ,that is it is the worst model."
   ]
  },
  {
   "cell_type": "code",
   "execution_count": 23,
   "id": "6899b55b-2a1a-413a-85a2-39cd2df63646",
   "metadata": {},
   "outputs": [],
   "source": [
    "\n",
    "from sklearn.metrics import mean_absolute_error, r2_score\n"
   ]
  },
  {
   "cell_type": "code",
   "execution_count": 25,
   "id": "06595315-9008-4886-9432-cd06e70b9af4",
   "metadata": {},
   "outputs": [],
   "source": [
    "\n",
    "evaluation_metrics = {\n",
    "    \"Model\": [],\n",
    "    \"MSE\": [],\n",
    "    \"MAE\": [],\n",
    "    \"R2\": []\n",
    "}\n",
    "\n",
    "\n",
    "for name, model in models.items():\n",
    "\n",
    "    y_pred = model.predict(X_test)\n",
    "        \n"
   ]
  },
  {
   "cell_type": "code",
   "execution_count": 27,
   "id": "518499bd-50fb-40b7-9658-c95e0e3600d3",
   "metadata": {},
   "outputs": [],
   "source": [
    "\n",
    "    mse = mean_squared_error(y_test, y_pred)\n",
    "    mae = mean_absolute_error(y_test, y_pred)\n",
    "    r2 = r2_score(y_test, y_pred)\n",
    "    \n",
    "    # Store results\n",
    "    evaluation_metrics[\"Model\"].append(name)\n",
    "    evaluation_metrics[\"MSE\"].append(mse)\n",
    "    evaluation_metrics[\"MAE\"].append(mae)\n",
    "    evaluation_metrics[\"R2\"].append(r2)\n"
   ]
  },
  {
   "cell_type": "code",
   "execution_count": 31,
   "id": "8e97c13a-39a1-47e8-8710-7300a27ff517",
   "metadata": {},
   "outputs": [
    {
     "data": {
      "text/html": [
       "<div>\n",
       "<style scoped>\n",
       "    .dataframe tbody tr th:only-of-type {\n",
       "        vertical-align: middle;\n",
       "    }\n",
       "\n",
       "    .dataframe tbody tr th {\n",
       "        vertical-align: top;\n",
       "    }\n",
       "\n",
       "    .dataframe thead th {\n",
       "        text-align: right;\n",
       "    }\n",
       "</style>\n",
       "<table border=\"1\" class=\"dataframe\">\n",
       "  <thead>\n",
       "    <tr style=\"text-align: right;\">\n",
       "      <th></th>\n",
       "      <th>Model</th>\n",
       "      <th>MSE</th>\n",
       "      <th>MAE</th>\n",
       "      <th>R2</th>\n",
       "    </tr>\n",
       "  </thead>\n",
       "  <tbody>\n",
       "    <tr>\n",
       "      <th>0</th>\n",
       "      <td>Support Vector Regressor</td>\n",
       "      <td>1.765015</td>\n",
       "      <td>1.154086</td>\n",
       "      <td>0.020597</td>\n",
       "    </tr>\n",
       "  </tbody>\n",
       "</table>\n",
       "</div>"
      ],
      "text/plain": [
       "                      Model       MSE       MAE        R2\n",
       "0  Support Vector Regressor  1.765015  1.154086  0.020597"
      ]
     },
     "execution_count": 31,
     "metadata": {},
     "output_type": "execute_result"
    }
   ],
   "source": [
    "# Convert results into a DataFrame for comparison\n",
    "evaluation_df = pd.DataFrame(evaluation_metrics)\n",
    "evaluation_df.sort_values(by=\"R2\", ascending=False)\n"
   ]
  },
  {
   "cell_type": "code",
   "execution_count": null,
   "id": "fb63b14b-9c1c-4e46-b3c0-4b89c4d3ff97",
   "metadata": {},
   "outputs": [],
   "source": [
    "# low R2 value indicates that the model does not explain much varience in the target variable"
   ]
  }
 ],
 "metadata": {
  "kernelspec": {
   "display_name": "Python 3 (ipykernel)",
   "language": "python",
   "name": "python3"
  },
  "language_info": {
   "codemirror_mode": {
    "name": "ipython",
    "version": 3
   },
   "file_extension": ".py",
   "mimetype": "text/x-python",
   "name": "python",
   "nbconvert_exporter": "python",
   "pygments_lexer": "ipython3",
   "version": "3.12.4"
  }
 },
 "nbformat": 4,
 "nbformat_minor": 5
}
